{
 "cells": [
  {
   "cell_type": "code",
   "execution_count": 9,
   "metadata": {},
   "outputs": [
    {
     "name": "stdout",
     "output_type": "stream",
     "text": [
      "/Users/morpho/TURLIERLAB Dropbox/Hudson Rocha/Postdoc/filament-orientation/data/nematic-relaxation-timescale\n",
      "0.4895614889045209\n",
      "0.4893387760508576\n",
      "0.4892537021495523\n",
      "0.4991250980501806\n",
      "0.4894231457733295\n",
      "0.4895661284239273\n",
      "0.4896301183037491\n",
      "0.48985628043133544\n",
      "0.48983073543011624\n",
      "0.4895702174320496\n",
      "0.48985750884869744\n",
      "0.48982587280888706\n",
      "0.4886214920192976\n",
      "0.4898338857340195\n"
     ]
    },
    {
     "name": "stderr",
     "output_type": "stream",
     "text": [
      "<ipython-input-9-2cd89ef2f8fb>:23: UserWarning: genfromtxt: Empty input file: \"run0002/output/data.csv\"\n",
      "  f = np.genfromtxt(elem+ '/output/data.csv', delimiter=';', unpack=True)\n"
     ]
    },
    {
     "data": {
      "image/png": "[encoded data removed]",
      "text/plain": [
       "<Figure size 432x288 with 1 Axes>"
      ]
     },
     "metadata": {
      "needs_background": "light"
     },
     "output_type": "display_data"
    },
    {
     "data": {
      "text/plain": [
       "[<matplotlib.lines.Line2D at 0x7f8f2bddb0a0>]"
      ]
     },
     "execution_count": 9,
     "metadata": {},
     "output_type": "execute_result"
    },
    {
     "data": {
      "image/png": "[encoded data removed]",
      "text/plain": [
       "<Figure size 432x288 with 1 Axes>"
      ]
     },
     "metadata": {
      "needs_background": "light"
     },
     "output_type": "display_data"
    }
   ],
   "source": [
    "import os\n",
    "import numpy as np\n",
    "import matplotlib.pyplot as plt\n",
    "from tikzplotlib import save as tikz_save\n",
    "import configreader\n",
    "\n",
    "path = '/Users/morpho/TURLIERLAB Dropbox/Hudson Rocha/Postdoc/filament-orientation/data/nematic-relaxation-timescale/'\n",
    "# path = '/Users/morpho/Desktop/2022-05-30_relaxation-timescale/'\n",
    "os.chdir(path)\n",
    "cwd = os.getcwd()\n",
    "\n",
    "print(cwd)\n",
    "\n",
    "contractility = []\n",
    "radius = [] \n",
    "time = []\n",
    "nematic_time_scale = []\n",
    "\n",
    "\n",
    "for elem in os.listdir(cwd):\n",
    "    if elem.startswith(\"run\"):\n",
    "        try: \n",
    "            f = np.genfromtxt(elem+ '/output/data.csv', delimiter=';', unpack=True)\n",
    "    \n",
    "            if f[2][-1]<0.5:\n",
    "                radius = np.append(radius,f[2][-1])\n",
    "                print(f[2][-1])\n",
    "                time = np.append(time,f[0][-1])\n",
    "                C = configreader.Config()\n",
    "\n",
    "                config = C.read(elem+  \"/config.conf\")\n",
    "                nematic_time_scale = np.append(nematic_time_scale, float(config[\"nematics\"][\"nematic_relaxation_time\"]))\n",
    "                contractility = np.append(contractility, float(config[\"parameters\"][\"contractility_strength\"]))\n",
    "        except:\n",
    "            pass\n",
    "\n",
    "os.chdir(path)\n",
    "cwd = os.getcwd()\n",
    "\n",
    "# r=open('final_radius.csv','w')\n",
    "\n",
    "# np.savetxt(r, np.column_stack((contractility,radius)),delimiter=',')\n",
    "# r.close()\n",
    "\n",
    "\n",
    "plt.plot(nematic_time_scale,time,'.')\n",
    "plt.xlabel('nematic time scale $\\tau$')\n",
    "plt.ylabel('time to reach 50% of ingression')\n",
    "plt.savefig('time-to-half-division.pdf')\n",
    "plt.show()\n",
    "# contractility = np.linspace(1, 20, 39)\n",
    "# print(contractility)\n",
    "plt.plot(nematic_time_scale,radius, '.')\n",
    "# \n",
    "\n",
    "# tikz_save('test.tex')\n"
   ]
  },
  {
   "cell_type": "code",
   "execution_count": 13,
   "metadata": {},
   "outputs": [
    {
     "name": "stdout",
     "output_type": "stream",
     "text": [
      "/Users/morpho/TURLIERLAB Dropbox/Hudson Rocha/Postdoc/filament-orientation/data/correlation-length\n"
     ]
    },
    {
     "name": "stderr",
     "output_type": "stream",
     "text": [
      "<ipython-input-13-6d260067edff>:25: UserWarning: genfromtxt: Empty input file: \"run0022/output/Data.csv\"\n",
      "  f = np.genfromtxt(elem+ '/output/Data.csv', delimiter=';', unpack=True)\n",
      "<ipython-input-13-6d260067edff>:25: UserWarning: genfromtxt: Empty input file: \"run0047/output/Data.csv\"\n",
      "  f = np.genfromtxt(elem+ '/output/Data.csv', delimiter=';', unpack=True)\n",
      "<ipython-input-13-6d260067edff>:25: UserWarning: genfromtxt: Empty input file: \"run0040/output/Data.csv\"\n",
      "  f = np.genfromtxt(elem+ '/output/Data.csv', delimiter=';', unpack=True)\n",
      "<ipython-input-13-6d260067edff>:25: UserWarning: genfromtxt: Empty input file: \"run0049/output/Data.csv\"\n",
      "  f = np.genfromtxt(elem+ '/output/Data.csv', delimiter=';', unpack=True)\n",
      "<ipython-input-13-6d260067edff>:25: UserWarning: genfromtxt: Empty input file: \"run0024/output/Data.csv\"\n",
      "  f = np.genfromtxt(elem+ '/output/Data.csv', delimiter=';', unpack=True)\n",
      "<ipython-input-13-6d260067edff>:25: UserWarning: genfromtxt: Empty input file: \"run0048/output/Data.csv\"\n",
      "  f = np.genfromtxt(elem+ '/output/Data.csv', delimiter=';', unpack=True)\n",
      "<ipython-input-13-6d260067edff>:25: UserWarning: genfromtxt: Empty input file: \"run0046/output/Data.csv\"\n",
      "  f = np.genfromtxt(elem+ '/output/Data.csv', delimiter=';', unpack=True)\n",
      "<ipython-input-13-6d260067edff>:25: UserWarning: genfromtxt: Empty input file: \"run0039/output/Data.csv\"\n",
      "  f = np.genfromtxt(elem+ '/output/Data.csv', delimiter=';', unpack=True)\n",
      "<ipython-input-13-6d260067edff>:25: UserWarning: genfromtxt: Empty input file: \"run0030/output/Data.csv\"\n",
      "  f = np.genfromtxt(elem+ '/output/Data.csv', delimiter=';', unpack=True)\n",
      "<ipython-input-13-6d260067edff>:25: UserWarning: genfromtxt: Empty input file: \"run0031/output/Data.csv\"\n",
      "  f = np.genfromtxt(elem+ '/output/Data.csv', delimiter=';', unpack=True)\n",
      "<ipython-input-13-6d260067edff>:25: UserWarning: genfromtxt: Empty input file: \"run0036/output/Data.csv\"\n",
      "  f = np.genfromtxt(elem+ '/output/Data.csv', delimiter=';', unpack=True)\n",
      "<ipython-input-13-6d260067edff>:25: UserWarning: genfromtxt: Empty input file: \"run0043/output/Data.csv\"\n",
      "  f = np.genfromtxt(elem+ '/output/Data.csv', delimiter=';', unpack=True)\n",
      "<ipython-input-13-6d260067edff>:25: UserWarning: genfromtxt: Empty input file: \"run0044/output/Data.csv\"\n",
      "  f = np.genfromtxt(elem+ '/output/Data.csv', delimiter=';', unpack=True)\n",
      "<ipython-input-13-6d260067edff>:25: UserWarning: genfromtxt: Empty input file: \"run0021/output/Data.csv\"\n",
      "  f = np.genfromtxt(elem+ '/output/Data.csv', delimiter=';', unpack=True)\n",
      "<ipython-input-13-6d260067edff>:25: UserWarning: genfromtxt: Empty input file: \"run0026/output/Data.csv\"\n",
      "  f = np.genfromtxt(elem+ '/output/Data.csv', delimiter=';', unpack=True)\n",
      "<ipython-input-13-6d260067edff>:25: UserWarning: genfromtxt: Empty input file: \"run0028/output/Data.csv\"\n",
      "  f = np.genfromtxt(elem+ '/output/Data.csv', delimiter=';', unpack=True)\n",
      "<ipython-input-13-6d260067edff>:25: UserWarning: genfromtxt: Empty input file: \"run0042/output/Data.csv\"\n",
      "  f = np.genfromtxt(elem+ '/output/Data.csv', delimiter=';', unpack=True)\n",
      "<ipython-input-13-6d260067edff>:25: UserWarning: genfromtxt: Empty input file: \"run0029/output/Data.csv\"\n",
      "  f = np.genfromtxt(elem+ '/output/Data.csv', delimiter=';', unpack=True)\n",
      "<ipython-input-13-6d260067edff>:25: UserWarning: genfromtxt: Empty input file: \"run0033/output/Data.csv\"\n",
      "  f = np.genfromtxt(elem+ '/output/Data.csv', delimiter=';', unpack=True)\n",
      "<ipython-input-13-6d260067edff>:25: UserWarning: genfromtxt: Empty input file: \"run0034/output/Data.csv\"\n",
      "  f = np.genfromtxt(elem+ '/output/Data.csv', delimiter=';', unpack=True)\n",
      "<ipython-input-13-6d260067edff>:25: UserWarning: genfromtxt: Empty input file: \"run0035/output/Data.csv\"\n",
      "  f = np.genfromtxt(elem+ '/output/Data.csv', delimiter=';', unpack=True)\n",
      "<ipython-input-13-6d260067edff>:25: UserWarning: genfromtxt: Empty input file: \"run0050/output/Data.csv\"\n",
      "  f = np.genfromtxt(elem+ '/output/Data.csv', delimiter=';', unpack=True)\n"
     ]
    },
    {
     "data": {
      "image/png": "[encoded data removed]",
      "text/plain": [
       "<Figure size 432x288 with 1 Axes>"
      ]
     },
     "metadata": {
      "needs_background": "light"
     },
     "output_type": "display_data"
    }
   ],
   "source": [
    "import os\n",
    "import numpy as np\n",
    "import matplotlib.pyplot as plt\n",
    "from tikzplotlib import save as tikz_save\n",
    "import configreader\n",
    "\n",
    "# os.chdir('/Users/morpho/TURLIERLAB Dropbox/Hudson Rocha/Postdoc/git/viscous_shell-Paper_Complete/data')\n",
    "path = '/Users/morpho/TURLIERLAB Dropbox/Hudson Rocha/Postdoc/filament-orientation/data/correlation-length/'\n",
    "# path = '/Users/morpho/Desktop/2022-05-30_correlation-length_zeta=15/'\n",
    "os.chdir(path)\n",
    "cwd = os.getcwd()\n",
    "\n",
    "print(cwd)\n",
    "\n",
    "contractility = []\n",
    "radius = [] \n",
    "time = []\n",
    "nematic_time_scale = []\n",
    "correlation_length = []\n",
    "\n",
    "for elem in os.listdir(cwd):\n",
    "    if elem.startswith(\"run\"):\n",
    "#         print(elem)\n",
    "        try: \n",
    "            f = np.genfromtxt(elem+ '/output/Data.csv', delimiter=';', unpack=True)\n",
    "            if f[2][-1]<0.5:\n",
    "                radius = np.append(radius,f[2][-1])\n",
    "                time = np.append(time,f[0][-1])\n",
    "                C = configreader.Config()\n",
    "                config = C.read(elem+  \"/config.conf\")\n",
    "                nematic_time_scale = np.append(nematic_time_scale, float(config[\"nematics\"][\"nematic_relaxation_time\"]))\n",
    "                correlation_length = np.append(correlation_length, float(config[\"nematics\"][\"correlation_length\"]))\n",
    "                \n",
    "        except:\n",
    "            pass\n",
    "\n",
    "os.chdir(path)\n",
    "cwd = os.getcwd()\n",
    "\n",
    "# r=open('final_radius.csv','w')\n",
    "\n",
    "# np.savetxt(r, np.column_stack((contractility,radius)),delimiter=',')\n",
    "# r.close()\n",
    "\n",
    "plt.plot(correlation_length, time,'.')\n",
    "plt.xlabel(r'correlation length $\\xi$')\n",
    "plt.ylabel('time to reach 50% of ingression')\n",
    "plt.savefig('furrow_radius.pdf')\n",
    "plt.show()\n",
    "\n",
    "\n",
    "# \n",
    "\n",
    "# tikz_save('test.tex')\n"
   ]
  },
  {
   "cell_type": "code",
   "execution_count": 41,
   "metadata": {},
   "outputs": [
    {
     "data": {
      "text/plain": [
       "array([ 1.  ,  1.22,  1.44,  1.66,  1.88,  2.1 ,  2.32,  2.54,  2.76,\n",
       "        2.98,  3.2 ,  3.42,  3.64,  3.86,  4.08,  4.3 ,  4.52,  4.74,\n",
       "        4.96,  5.18,  5.4 ,  5.62,  5.84,  6.06,  6.28,  6.5 ,  6.72,\n",
       "        6.94,  7.16,  7.38,  7.6 ,  7.82,  8.04,  8.26,  8.48,  8.7 ,\n",
       "        8.92,  9.14,  9.36,  9.58,  9.8 , 10.02, 10.24, 10.46, 10.68,\n",
       "       10.9 , 11.12, 11.34, 11.56, 11.78, 12.  ])"
      ]
     },
     "execution_count": 41,
     "metadata": {},
     "output_type": "execute_result"
    }
   ],
   "source": [
    "np.linspace(1,12,51)"
   ]
  },
  {
   "cell_type": "code",
   "execution_count": 16,
   "metadata": {},
   "outputs": [
    {
     "name": "stdout",
     "output_type": "stream",
     "text": [
      "/Users/morpho/TURLIERLAB Dropbox/Hudson Rocha/Postdoc/filament-orientation/data/correlation-length\n",
      "25\n",
      "22\n",
      "14\n",
      "13\n",
      "47\n",
      "40\n",
      "49\n",
      "12\n",
      "15\n",
      "23\n",
      "24\n",
      "48\n",
      "41\n",
      "46\n",
      "39\n",
      "06\n",
      "01\n",
      "08\n",
      "37\n",
      "30\n",
      "31\n",
      "09\n",
      "36\n",
      "00\n",
      "38\n",
      "07\n",
      "43\n",
      "44\n",
      "21\n",
      "26\n",
      "19\n"
     ]
    },
    {
     "name": "stderr",
     "output_type": "stream",
     "text": [
      "<ipython-input-16-ff6a77fafbb2>:30: UserWarning: genfromtxt: Empty input file: \"run0022/output/Data.csv\"\n",
      "  f = np.genfromtxt(elem+ '/output/Data.csv', delimiter=';', unpack=True)\n",
      "<ipython-input-16-ff6a77fafbb2>:30: UserWarning: genfromtxt: Empty input file: \"run0047/output/Data.csv\"\n",
      "  f = np.genfromtxt(elem+ '/output/Data.csv', delimiter=';', unpack=True)\n",
      "<ipython-input-16-ff6a77fafbb2>:30: UserWarning: genfromtxt: Empty input file: \"run0040/output/Data.csv\"\n",
      "  f = np.genfromtxt(elem+ '/output/Data.csv', delimiter=';', unpack=True)\n",
      "<ipython-input-16-ff6a77fafbb2>:30: UserWarning: genfromtxt: Empty input file: \"run0049/output/Data.csv\"\n",
      "  f = np.genfromtxt(elem+ '/output/Data.csv', delimiter=';', unpack=True)\n",
      "<ipython-input-16-ff6a77fafbb2>:30: UserWarning: genfromtxt: Empty input file: \"run0024/output/Data.csv\"\n",
      "  f = np.genfromtxt(elem+ '/output/Data.csv', delimiter=';', unpack=True)\n",
      "<ipython-input-16-ff6a77fafbb2>:30: UserWarning: genfromtxt: Empty input file: \"run0048/output/Data.csv\"\n",
      "  f = np.genfromtxt(elem+ '/output/Data.csv', delimiter=';', unpack=True)\n",
      "<ipython-input-16-ff6a77fafbb2>:30: UserWarning: genfromtxt: Empty input file: \"run0046/output/Data.csv\"\n",
      "  f = np.genfromtxt(elem+ '/output/Data.csv', delimiter=';', unpack=True)\n",
      "<ipython-input-16-ff6a77fafbb2>:30: UserWarning: genfromtxt: Empty input file: \"run0039/output/Data.csv\"\n",
      "  f = np.genfromtxt(elem+ '/output/Data.csv', delimiter=';', unpack=True)\n",
      "<ipython-input-16-ff6a77fafbb2>:30: UserWarning: genfromtxt: Empty input file: \"run0030/output/Data.csv\"\n",
      "  f = np.genfromtxt(elem+ '/output/Data.csv', delimiter=';', unpack=True)\n",
      "<ipython-input-16-ff6a77fafbb2>:30: UserWarning: genfromtxt: Empty input file: \"run0031/output/Data.csv\"\n",
      "  f = np.genfromtxt(elem+ '/output/Data.csv', delimiter=';', unpack=True)\n",
      "<ipython-input-16-ff6a77fafbb2>:30: UserWarning: genfromtxt: Empty input file: \"run0036/output/Data.csv\"\n",
      "  f = np.genfromtxt(elem+ '/output/Data.csv', delimiter=';', unpack=True)\n",
      "<ipython-input-16-ff6a77fafbb2>:30: UserWarning: genfromtxt: Empty input file: \"run0043/output/Data.csv\"\n",
      "  f = np.genfromtxt(elem+ '/output/Data.csv', delimiter=';', unpack=True)\n",
      "<ipython-input-16-ff6a77fafbb2>:30: UserWarning: genfromtxt: Empty input file: \"run0044/output/Data.csv\"\n",
      "  f = np.genfromtxt(elem+ '/output/Data.csv', delimiter=';', unpack=True)\n",
      "<ipython-input-16-ff6a77fafbb2>:30: UserWarning: genfromtxt: Empty input file: \"run0021/output/Data.csv\"\n",
      "  f = np.genfromtxt(elem+ '/output/Data.csv', delimiter=';', unpack=True)\n",
      "<ipython-input-16-ff6a77fafbb2>:30: UserWarning: genfromtxt: Empty input file: \"run0026/output/Data.csv\"\n",
      "  f = np.genfromtxt(elem+ '/output/Data.csv', delimiter=';', unpack=True)\n",
      "<ipython-input-16-ff6a77fafbb2>:30: UserWarning: genfromtxt: Empty input file: \"run0028/output/Data.csv\"\n",
      "  f = np.genfromtxt(elem+ '/output/Data.csv', delimiter=';', unpack=True)\n",
      "<ipython-input-16-ff6a77fafbb2>:30: UserWarning: genfromtxt: Empty input file: \"run0042/output/Data.csv\"\n",
      "  f = np.genfromtxt(elem+ '/output/Data.csv', delimiter=';', unpack=True)\n",
      "<ipython-input-16-ff6a77fafbb2>:30: UserWarning: genfromtxt: Empty input file: \"run0029/output/Data.csv\"\n",
      "  f = np.genfromtxt(elem+ '/output/Data.csv', delimiter=';', unpack=True)\n"
     ]
    },
    {
     "name": "stdout",
     "output_type": "stream",
     "text": [
      "10\n",
      "17\n",
      "28\n",
      "45\n",
      "42\n",
      "16\n",
      "29\n",
      "11\n",
      "27\n",
      "18\n",
      "20\n",
      "02\n",
      "05\n",
      "33\n",
      "34\n",
      "35\n",
      "32\n",
      "04\n",
      "03\n",
      "50\n"
     ]
    },
    {
     "name": "stderr",
     "output_type": "stream",
     "text": [
      "<ipython-input-16-ff6a77fafbb2>:30: UserWarning: genfromtxt: Empty input file: \"run0033/output/Data.csv\"\n",
      "  f = np.genfromtxt(elem+ '/output/Data.csv', delimiter=';', unpack=True)\n",
      "<ipython-input-16-ff6a77fafbb2>:30: UserWarning: genfromtxt: Empty input file: \"run0034/output/Data.csv\"\n",
      "  f = np.genfromtxt(elem+ '/output/Data.csv', delimiter=';', unpack=True)\n",
      "<ipython-input-16-ff6a77fafbb2>:30: UserWarning: genfromtxt: Empty input file: \"run0035/output/Data.csv\"\n",
      "  f = np.genfromtxt(elem+ '/output/Data.csv', delimiter=';', unpack=True)\n",
      "<ipython-input-16-ff6a77fafbb2>:30: UserWarning: genfromtxt: Empty input file: \"run0050/output/Data.csv\"\n",
      "  f = np.genfromtxt(elem+ '/output/Data.csv', delimiter=';', unpack=True)\n"
     ]
    },
    {
     "data": {
      "image/png": "[encoded data removed]",
      "text/plain": [
       "<Figure size 432x288 with 1 Axes>"
      ]
     },
     "metadata": {
      "needs_background": "light"
     },
     "output_type": "display_data"
    }
   ],
   "source": [
    "# Cytokinesis\n",
    "\n",
    "import numpy as np\n",
    "import matplotlib.pyplot as plt\n",
    "import matplotlib.cm as cm\n",
    "\n",
    "from tikzplotlib import save as tikz_save\n",
    "\n",
    "# IMPORT DATA\n",
    "import os\n",
    "# path = '/Users/morpho/Downloads/viscous_shell-Paper_Complete/Examples/Cytokinesis/'\n",
    "# path = '/Users/morpho/TURLIERLAB Dropbox/Hudson Rocha/Postdoc/git/viscous_shell-Paper_Complete/Examples/Cytokinesis'\n",
    "path = '/Users/morpho/TURLIERLAB Dropbox/Hudson Rocha/Postdoc/filament-orientation/data/correlation-length/'\n",
    "# path = '/Users/morpho/TURLIERLAB Dropbox/Hudson Rocha/Postdoc/filament-orientation/data/nematic-relaxation-timescale/'\n",
    "\n",
    "os.chdir(path)\n",
    "cwd = os.getcwd()\n",
    "\n",
    "print(cwd)\n",
    "\n",
    "fig1 = plt.figure(1)\n",
    "\n",
    "\n",
    "for elem in os.listdir(cwd):\n",
    "    if elem.startswith(\"run\"):\n",
    "#         print(elem)\n",
    "        try: \n",
    "            print(elem[-2:])\n",
    "            i = int(elem[-2:])\n",
    "            f = np.genfromtxt(elem+ '/output/Data.csv', delimiter=';', unpack=True)\n",
    "            current_radius = f[2,:]\n",
    "            time = f[0,:]\n",
    "            plt.plot(time[:], current_radius[:], color=cm.coolwarm(i/50))\n",
    "            \n",
    "        except:\n",
    "            pass\n",
    "\n",
    "\n",
    "\n",
    "\n",
    "plt.figure(1)\n",
    "plt.xlabel('time')\n",
    "plt.ylabel('Furrow evolution')\n",
    "\n",
    "\n",
    "plt.savefig('furrow_radius-correlation.pdf')\n",
    "\n",
    "\n",
    "\n"
   ]
  },
  {
   "cell_type": "code",
   "execution_count": null,
   "metadata": {},
   "outputs": [],
   "source": []
  }
 ],
 "metadata": {
  "kernelspec": {
   "display_name": "Python 3",
   "language": "python",
   "name": "python3"
  },
  "language_info": {
   "codemirror_mode": {
    "name": "ipython",
    "version": 3
   },
   "file_extension": ".py",
   "mimetype": "text/x-python",
   "name": "python",
   "nbconvert_exporter": "python",
   "pygments_lexer": "ipython3",
   "version": "3.8.2"
  }
 },
 "nbformat": 4,
 "nbformat_minor": 4
}
