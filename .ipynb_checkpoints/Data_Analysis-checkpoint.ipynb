{
 "cells": [
  {
   "cell_type": "code",
   "execution_count": 1,
   "metadata": {},
   "outputs": [
    {
     "name": "stdout",
     "output_type": "stream",
     "text": [
      "/Users/morpho/TURLIERLAB Dropbox/Hudson Rocha/Postdoc/filament-orientation/data\n",
      "run0025\n",
      "run0022\n",
      "run0014\n",
      "run0013\n",
      "run0012\n",
      "run0015\n",
      "run0023\n",
      "run0024\n",
      "run0006\n",
      "run0001\n",
      "run0008\n",
      "run0037\n",
      "run0030\n",
      "run0031\n",
      "run0009\n",
      "run0036\n",
      "run0000\n",
      "run0038\n",
      "run0007\n",
      "run0021\n",
      "run0026\n",
      "run0019\n",
      "run0010\n",
      "run0017\n",
      "run0028\n",
      "run0016\n",
      "run0029\n",
      "run0011\n",
      "run0027\n",
      "run0018\n",
      "run0020\n",
      "run0002\n",
      "run0005\n",
      "run0033\n",
      "run0034\n",
      "run0035\n",
      "run0032\n",
      "run0004\n",
      "run0003\n"
     ]
    },
    {
     "data": {
      "image/png": "[encoded data removed]",
      "text/plain": [
       "<Figure size 432x288 with 1 Axes>"
      ]
     },
     "metadata": {
      "needs_background": "light"
     },
     "output_type": "display_data"
    }
   ],
   "source": [
    "import os\n",
    "import numpy as np\n",
    "import matplotlib.pyplot as plt\n",
    "from tikzplotlib import save as tikz_save\n",
    "import configreader\n",
    "\n",
    "# os.chdir('/Users/morpho/TURLIERLAB Dropbox/Hudson Rocha/Postdoc/git/viscous_shell-Paper_Complete/data')\n",
    "path = '/Users/morpho/TURLIERLAB Dropbox/Hudson Rocha/Postdoc/filament-orientation/data/'\n",
    "# path = '/Users/morpho/Desktop/data'\n",
    "os.chdir(path)\n",
    "cwd = os.getcwd()\n",
    "\n",
    "print(cwd)\n",
    "\n",
    "contractility = []\n",
    "radius = [] \n",
    "time = []\n",
    "\n",
    "\n",
    "for elem in os.listdir(cwd):\n",
    "    if elem.startswith(\"run\"):\n",
    "        print(elem)\n",
    "        try: \n",
    "            f = np.genfromtxt(elem+ '/output/data.csv', delimiter=';', unpack=True)\n",
    "            radius = np.append(radius,f[2][-1])\n",
    "            C = configreader.Config()\n",
    "            config = C.read(elem+  \"/config.conf\")\n",
    "            contractility = np.append(contractility, float(config[\"parameters\"][\"contractility_strength\"]))\n",
    "        except:\n",
    "            pass\n",
    "\n",
    "os.chdir(path)\n",
    "cwd = os.getcwd()\n",
    "\n",
    "r=open('final_radius.csv','w')\n",
    "\n",
    "np.savetxt(r, np.column_stack((contractility,radius)),delimiter=',')\n",
    "r.close()\n",
    "\n",
    "plt.plot(contractility, radius,'.')\n",
    "plt.xlabel('Contractility $\\zeta/\\zeta_0$')\n",
    "plt.ylabel('Final furrow radius')\n",
    "plt.savefig('furrow_radius.pdf')\n",
    "plt.show()\n",
    "# contractility = np.linspace(1, 20, 39)\n",
    "# print(contractility)\n",
    "\n",
    "# \n",
    "\n",
    "# tikz_save('test.tex')\n"
   ]
  },
  {
   "cell_type": "code",
   "execution_count": null,
   "metadata": {},
   "outputs": [],
   "source": []
  }
 ],
 "metadata": {
  "kernelspec": {
   "display_name": "Python 3",
   "language": "python",
   "name": "python3"
  },
  "language_info": {
   "name": ""
  }
 },
 "nbformat": 4,
 "nbformat_minor": 4
}
